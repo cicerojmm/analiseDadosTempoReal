{
 "cells": [
  {
   "cell_type": "code",
   "execution_count": 38,
   "metadata": {},
   "outputs": [],
   "source": [
    "from datetime import datetime\n",
    "from pytz import timezone\n",
    "from textblob import TextBlob as tb\n",
    "import tweepy\n",
    "from time import sleep\n",
    "from json import dumps\n",
    "from kafka import KafkaProducer"
   ]
  },
  {
   "cell_type": "code",
   "execution_count": 39,
   "metadata": {},
   "outputs": [],
   "source": [
    "## chaves do twitter\n",
    "consumer_key = 'qw0doPiN5dJafZSTtwM312gJp'\n",
    "consumer_secret = 'pnqArL9J9hCICCRcsLTGpVg0nfzwolf0A0ttp53NCAQ8jaVNsc'\n",
    "access_token = '910302589685813248-gGJd9jHFsGBbybGkwx9LXNNZyCynPJB'\n",
    "access_token_secret = 'vw4wp3cTYLiVNuqFiduWQwHJU8l5ChPg42S2Z1Vc5rVs0'"
   ]
  },
  {
   "cell_type": "code",
   "execution_count": 40,
   "metadata": {},
   "outputs": [],
   "source": [
    "#confiração do kafka\n",
    "broker = 'localhost:9092'\n",
    "topico = 'devfest-cerrado'\n",
    "producer = KafkaProducer(bootstrap_servers=[broker],\n",
    "                         value_serializer=lambda x:\n",
    "                         dumps(x).encode('utf-8'))"
   ]
  },
  {
   "cell_type": "code",
   "execution_count": 45,
   "metadata": {},
   "outputs": [],
   "source": [
    "#configuração da do twitter\n",
    "auth = tweepy.OAuthHandler(consumer_key, consumer_secret)\n",
    "auth.set_access_token(access_token, access_token_secret)\n",
    "api = tweepy.API(auth)\n",
    "\n",
    "tweets = api.search('bolsonaro')"
   ]
  },
  {
   "cell_type": "code",
   "execution_count": 46,
   "metadata": {},
   "outputs": [
    {
     "name": "stdout",
     "output_type": "stream",
     "text": [
      "{'horario': '2019-10-19 02:05:44', 'tweet': 'RT @ManuelaDavila: Há anos sou vítima permanente da distribuição de fakenews. Na última eleição não houve uma pessoa  que não tenha recebid…'}\n",
      "{'horario': '2019-10-19 02:05:49', 'tweet': 'RT @folha: \"Isso já passou. Nós somos Bolsonaro. Somos que nem mulher traída, apanha, mas mesmo assim volta ao aconchego\" (via @folha_poder…'}\n",
      "{'horario': '2019-10-19 02:05:54', 'tweet': 'RT @MarceloFreixo: Funcionários fantasmas, desvio dos salários de assessores, emprego pra parentes de milicianos, Queiroz, laranjal abastec…'}\n",
      "{'horario': '2019-10-19 02:05:59', 'tweet': 'RT @andrefernm: PSL ESTÁ ME PERSEGUINDO E AMEAÇANDO DE EXPULSÃO APÓS EU EXPOR PUBLICAMENTE O DEPUTADO QUE GRAVOU E VAZOU CONVERSA COM O PRE…'}\n",
      "{'horario': '2019-10-19 02:06:04', 'tweet': 'Quando a Dilma perdeu apoio dos principais partidos acharam um motivo pra \"sair\" com ela\\nBolsonaro tá indo pelo mes… https://t.co/5g7zzfXkyv'}\n",
      "{'horario': '2019-10-19 02:06:09', 'tweet': 'RT @letsaguiar: Estou com JAIR BOLSONARO e ponto final https://t.co/RtwtoRsovq'}\n",
      "{'horario': '2019-10-19 02:06:14', 'tweet': 'RT @CarlaZambelli17: Descobrimos que uma convenção do PSL pretende, a portas fechadas, mudar o estatuto do partido para concentrar poderes…'}\n",
      "{'horario': '2019-10-19 02:06:19', 'tweet': 'RT @oswaldojor: Bolsonaro lidera corrida eleitoral em 2022. Ele tem o dobro das intenções de voto de Haddad, o triplo de Huck e o quádruplo…'}\n",
      "{'horario': '2019-10-19 02:06:24', 'tweet': 'RT @renatinhois: Ué, que estranho, mas será que ninguém avisou eles?! 🤔\\n\\nhttps://t.co/fTfXptHZrZ'}\n",
      "{'horario': '2019-10-19 02:06:29', 'tweet': 'RT @CatarinaHofer: O Véio é duro! Vcs acham que o Véio Bolsonaro foi criado comendo Danone??? \\U0001f923\\U0001f923\\U0001f923\\U0001f923\\n\\nEu  A M E I  ❤ essa definição do Presid…'}\n",
      "{'horario': '2019-10-19 02:06:34', 'tweet': 'RT @IvanValente: Mais de vinte anos como deputado, Bolsonaro não fez nada! Como presidente, os resultados positivos que ele entrega ao Bras…'}\n",
      "{'horario': '2019-10-19 02:06:39', 'tweet': 'RT @MARIAGORETTICA4: @o_antagonista Fazem o diabo para derrubar nosso Presidente. Até os Canalhas que pegaram carona na onda Bolsonaro e de…'}\n",
      "{'horario': '2019-10-19 02:06:44', 'tweet': 'RT @brasilaomeio: GRAVÍSSIMO!!!\\nLíder do PSL acusa Bolsonaro de comprar votos e diz que tem gravação.\\nÉ CRIME DE RESPONSABILIDADE.\\nDilma fo…'}\n",
      "{'horario': '2019-10-19 02:06:49', 'tweet': 'RT @o_colecionador: Agora serião:\\n\\nquem foram os cabeça de bagre q elegeram o Delegado Vardí?\\n\\nVcs votaram no Delegado Vardí, na pastora Sh…'}\n",
      "{'horario': '2019-10-19 02:06:54', 'tweet': 'RT @PastorMalafaia: COM TODO O RESPEITO JOICE ! Você era a líder do governo, cargo de extrema confiança do presidente, como você vota pela…'}\n"
     ]
    }
   ],
   "source": [
    "for tweet in tweets:\n",
    "  frase = str(tb(tweet.text))\n",
    "  data_e_hora_completa = datetime.now()\n",
    "  data_string = data_e_hora_completa.strftime('%Y-%m-%d %H:%M:%S')\n",
    "  dados = {\"tweet\": frase, \"horario\": data_string}\n",
    "  print(dados)\n",
    "  producer.send(topico, value=dados)\n",
    "  sleep(5)"
   ]
  },
  {
   "cell_type": "code",
   "execution_count": null,
   "metadata": {},
   "outputs": [],
   "source": []
  }
 ],
 "metadata": {
  "kernelspec": {
   "display_name": "Python 3",
   "language": "python",
   "name": "python3"
  },
  "language_info": {
   "codemirror_mode": {
    "name": "ipython",
    "version": 3
   },
   "file_extension": ".py",
   "mimetype": "text/x-python",
   "name": "python",
   "nbconvert_exporter": "python",
   "pygments_lexer": "ipython3",
   "version": "3.5.2"
  }
 },
 "nbformat": 4,
 "nbformat_minor": 2
}
